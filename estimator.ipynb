{
 "cells": [
  {
   "cell_type": "markdown",
   "metadata": {},
   "source": [
    "# State representation and estimation\n",
    "\n",
    "We'll explore different state representations and their bearing on state estimation. In particular, we'll explore the full state, error state, and invariant state representations.\n",
    "\n",
    "As a running example, we'll consider estimating orientation and accelerometer bias for an object at rest (that is, zero velocity/zero angular rate) given noisy accelerometer observations. The accelerometer observation is described by\n",
    "\n",
    "$\n",
    "\\begin{align}\n",
    "\\mathbf{a}_\\mathtt{IMU} = \\underbrace{\\mathbf{a}_\\mathtt{LI}^\\mathtt{I}}_{=\\mathbf{0}} - \\mathrm{R}_\\mathtt{IL} \\mathbf{g}^\\mathtt{L}\n",
    "    + \\mathbf{b}_\\mathtt{IMU} + \\mathbf{w}_\\mathtt{IMU}\n",
    "\\end{align}\n",
    "$\n",
    "\n",
    "where $\\mathbf{a}_\\mathtt{LI}^\\mathtt{I}$ is the acceleration of the IMU ($I$) with respect to some locally level frame ($L$) expressed in the IMU frame, $\\mathbf{g}^\\mathtt{R}$ is the gravity vector expressed in the local frame, and $\\mathbf{b}_\\mathtt{IMU}$ and $\\mathbf{w}_\\mathtt{IMU}$ are the bias and noise vectors, respectively. Note that our observation can be written in terms of our unknown state, the IMU orientation with respect to the local frame $\\mathrm{R}_\\mathtt{LI}$ and the accelerometer bias $\\mathbf{b}_\\mathtt{IMU}$."
   ]
  },
  {
   "cell_type": "code",
   "execution_count": 1,
   "metadata": {},
   "outputs": [],
   "source": [
    "import itertools\n",
    "\n",
    "import numpy as np\n",
    "import matplotlib.pyplot as plt\n",
    "from scipy.spatial.distance import mahalanobis\n",
    "import transforms3d"
   ]
  },
  {
   "cell_type": "code",
   "execution_count": 2,
   "metadata": {},
   "outputs": [],
   "source": [
    "g_L = np.array([0., 0., -9.81])\n",
    "\n",
    "def accelerometer(R_LI, b_imu, w_imu):\n",
    "    \"\"\"Return an accelerometer observation given IMU orientation, accelerometer bias, and some noise perturbation.\n",
    "    \"\"\"\n",
    "    return -(R_LI.T @ g_L) + b_imu + w_imu"
   ]
  },
  {
   "cell_type": "code",
   "execution_count": 3,
   "metadata": {},
   "outputs": [],
   "source": [
    "rph_true = np.deg2rad(np.array([65.0, -23.0, 17.0]))\n",
    "b_imu_true = np.array([0.7, -0.9, 0.1])\n",
    "a_imu_true = accelerometer(transforms3d.euler.euler2mat(*rph_true), b_imu_true, np.zeros(3))"
   ]
  },
  {
   "cell_type": "code",
   "execution_count": 4,
   "metadata": {},
   "outputs": [
    {
     "data": {
      "image/png": "[encoded data removed]",
      "text/plain": [
       "<Figure size 648x648 with 15 Axes>"
      ]
     },
     "metadata": {
      "needs_background": "light"
     },
     "output_type": "display_data"
    }
   ],
   "source": [
    "class ImuCost:\n",
    "    def __init__(self, i, j):\n",
    "        self.i = i\n",
    "        self.j = j\n",
    "    \n",
    "    def cost(self, x, y):\n",
    "        rph_bias = np.zeros(6)\n",
    "        rph_bias[self.i] = x\n",
    "        rph_bias[self.j] = y\n",
    "        \n",
    "        R_LI = transforms3d.euler.euler2mat(*(rph_true + rph_bias[:3]))\n",
    "        b_imu = b_imu_true + rph_bias[3:]\n",
    "        \n",
    "        return mahalanobis(a_imu_true, accelerometer(R_LI, b_imu, np.zeros(3)), np.eye(3))\n",
    "\n",
    "X, Y = np.meshgrid(np.linspace(-np.pi, np.pi), np.linspace(-np.pi, np.pi))\n",
    "\n",
    "fig = plt.figure(figsize=(9, 9))\n",
    "for i, j in itertools.combinations(range(6), 2):\n",
    "    imu = ImuCost(i, j)\n",
    "    Z = np.fromiter(map(imu.cost, X.ravel(), Y.ravel()), X.dtype).reshape(X.shape)\n",
    "    \n",
    "    ax = fig.add_subplot(5, 5, 5 * i + j)\n",
    "    ax.contourf(X, Y, Z, cmap='Greys')\n",
    "    ax.axis('off')\n",
    "plt.tight_layout()"
   ]
  },
  {
   "cell_type": "markdown",
   "metadata": {},
   "source": [
    "## Least-squares and the Kalman filter\n",
    "\n",
    "Linear estimation example. Show how a prior distribution over state and a probabilistic observation model can be considered cost surfaces."
   ]
  },
  {
   "cell_type": "markdown",
   "metadata": {},
   "source": [
    "## Full state representation\n",
    "\n",
    "Demonstrate what the distribution over parameters looks like as we add new observations.\n",
    "\n",
    "Show convergence for different initializations..."
   ]
  },
  {
   "cell_type": "markdown",
   "metadata": {},
   "source": [
    "## Quaternion error state representation\n",
    "\n",
    "Demonstrate what the distribution over parameters looks like as we add new observations.\n",
    "\n",
    "Show convergence for different initializations..."
   ]
  },
  {
   "cell_type": "markdown",
   "metadata": {},
   "source": [
    "## Invariant state representation\n",
    "\n",
    "Demonstrate what the distribution over parameters looks like as we add new observations.\n",
    "\n",
    "Show convergence for different initializations..."
   ]
  }
 ],
 "metadata": {
  "kernelspec": {
   "display_name": "Python 3",
   "language": "python",
   "name": "python3"
  },
  "language_info": {
   "codemirror_mode": {
    "name": "ipython",
    "version": 3
   },
   "file_extension": ".py",
   "mimetype": "text/x-python",
   "name": "python",
   "nbconvert_exporter": "python",
   "pygments_lexer": "ipython3",
   "version": "3.6.12"
  }
 },
 "nbformat": 4,
 "nbformat_minor": 4
}
